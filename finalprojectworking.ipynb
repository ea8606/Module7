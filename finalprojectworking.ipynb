{
 "cells": [
  {
   "cell_type": "code",
   "execution_count": null,
   "metadata": {
    "collapsed": true
   },
   "outputs": [],
   "source": []
  },
  {
   "cell_type": "code",
   "execution_count": 72,
   "metadata": {
    "collapsed": true
   },
   "outputs": [],
   "source": [
    "from file_operations import FileOperations"
   ]
  },
  {
   "cell_type": "code",
   "execution_count": 73,
   "metadata": {
    "collapsed": true
   },
   "outputs": [],
   "source": [
    "import sys"
   ]
  },
  {
   "cell_type": "code",
   "execution_count": 74,
   "metadata": {
    "collapsed": true
   },
   "outputs": [],
   "source": [
    "roadmap_ops = FileOperations()"
   ]
  },
  {
   "cell_type": "code",
   "execution_count": 75,
   "metadata": {
    "collapsed": true
   },
   "outputs": [],
   "source": [
    "excel_file = \"BPM_Automation_Roadmap2 _1612_16Nov.xlsx\"\n",
    "text_file = './MasterScriptTests.txt'"
   ]
  },
  {
   "cell_type": "code",
   "execution_count": 77,
   "metadata": {
    "collapsed": false
   },
   "outputs": [],
   "source": [
    "list_wb_mfolder_list = roadmap_ops.open_the_files(excel_file, text_file)"
   ]
  },
  {
   "cell_type": "code",
   "execution_count": 78,
   "metadata": {
    "collapsed": true
   },
   "outputs": [],
   "source": [
    "mfolder_list = list_wb_mfolder_list[1]"
   ]
  },
  {
   "cell_type": "code",
   "execution_count": 79,
   "metadata": {
    "collapsed": true
   },
   "outputs": [],
   "source": [
    "wb = list_wb_mfolder_list[0]"
   ]
  },
  {
   "cell_type": "code",
   "execution_count": 80,
   "metadata": {
    "collapsed": true
   },
   "outputs": [],
   "source": [
    "cleared_sheet_SVN = roadmap_ops.get_clean_excel_sheet('SVNMasterScriptExport', wb)"
   ]
  },
  {
   "cell_type": "code",
   "execution_count": 81,
   "metadata": {
    "collapsed": true
   },
   "outputs": [],
   "source": [
    "cleared_sheet_InM = roadmap_ops.get_clean_excel_sheet('InMasterScriptFolderNotInRoadMa', wb)"
   ]
  },
  {
   "cell_type": "code",
   "execution_count": 82,
   "metadata": {
    "collapsed": true
   },
   "outputs": [],
   "source": [
    "not_in_rm_ws = wb.get_sheet_by_name('InMasterScriptFolderNotInRoadMa')"
   ]
  },
  {
   "cell_type": "code",
   "execution_count": 83,
   "metadata": {
    "collapsed": true
   },
   "outputs": [],
   "source": [
    "svn_ws = wb.get_sheet_by_name('SVNMasterScriptExport')"
   ]
  },
  {
   "cell_type": "code",
   "execution_count": 84,
   "metadata": {
    "collapsed": true
   },
   "outputs": [],
   "source": [
    "for i in range(1, 10000):\n",
    "    svn_ws.cell(row=i, column=5)"
   ]
  },
  {
   "cell_type": "code",
   "execution_count": 85,
   "metadata": {
    "collapsed": true
   },
   "outputs": [],
   "source": [
    "i = 1\n",
    "for x in mfolder_list:\n",
    "    x = x.strip()\n",
    "    svn_ws.cell(row=i, column=5, value=x)\n",
    "    i += 1"
   ]
  },
  {
   "cell_type": "code",
   "execution_count": 86,
   "metadata": {
    "collapsed": true
   },
   "outputs": [],
   "source": [
    "async_ws = wb.get_sheet_by_name('Async')"
   ]
  },
  {
   "cell_type": "code",
   "execution_count": 87,
   "metadata": {
    "collapsed": true
   },
   "outputs": [],
   "source": [
    "for i in range(15, 10000):\n",
    "    async_ws.cell(row=i, column=18, value=\"\")"
   ]
  },
  {
   "cell_type": "code",
   "execution_count": 88,
   "metadata": {
    "collapsed": true
   },
   "outputs": [],
   "source": [
    "for i in range(1,10000):\n",
    "    test_found = 0\n",
    "    if svn_ws.cell(row=i, column=5).value is None:\n",
    "        break\n",
    "    for j in range(15,10000):\n",
    "        if async_ws.cell(row=j, column=5).value is None:\n",
    "            break\n",
    "        if (svn_ws.cell(row=i, column=5).value).strip() == (async_ws.cell(row=j, column=5).value).strip():\n",
    "            async_ws.cell(row=j, column=18, value=\"X\")\n",
    "            test_found = 1\n",
    "    if test_found == 0:\n",
    "        # the append method takes a list\n",
    "        list1 = [svn_ws.cell(row=i, column=5).value]\n",
    "        not_in_rm_ws.append(list1)"
   ]
  },
  {
   "cell_type": "code",
   "execution_count": 89,
   "metadata": {
    "collapsed": true
   },
   "outputs": [],
   "source": [
    "wb.save(\"BPM_Automation_Roadmap2.xlsx\")"
   ]
  },
  {
   "cell_type": "code",
   "execution_count": null,
   "metadata": {
    "collapsed": true
   },
   "outputs": [],
   "source": []
  }
 ],
 "metadata": {},
 "nbformat": 4,
 "nbformat_minor": 2
}
