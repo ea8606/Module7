{
 "cells": [
  {
   "cell_type": "code",
   "execution_count": 1,
   "metadata": {
    "collapsed": true,
    "deletable": true,
    "editable": true
   },
   "outputs": [],
   "source": [
    "import openpyxl.reader.excel as py"
   ]
  },
  {
   "cell_type": "code",
   "execution_count": 2,
   "metadata": {
    "collapsed": true,
    "deletable": true,
    "editable": true
   },
   "outputs": [],
   "source": [
    "roadmap_filename = \"BPM_Automation_Roadmap2 _1612_16Nov.xlsx\""
   ]
  },
  {
   "cell_type": "code",
   "execution_count": 3,
   "metadata": {
    "collapsed": false,
    "deletable": true,
    "editable": true
   },
   "outputs": [],
   "source": [
    "wb = py.load_workbook(roadmap_filename)"
   ]
  },
  {
   "cell_type": "code",
   "execution_count": 4,
   "metadata": {
    "collapsed": true,
    "deletable": true,
    "editable": true
   },
   "outputs": [],
   "source": [
    "master_script_file = open(\"./MasterScriptTests.txt\", 'r')"
   ]
  },
  {
   "cell_type": "code",
   "execution_count": 5,
   "metadata": {
    "collapsed": true,
    "deletable": true,
    "editable": true
   },
   "outputs": [],
   "source": [
    "mfolder_list = master_script_file.readlines()"
   ]
  },
  {
   "cell_type": "code",
   "execution_count": 6,
   "metadata": {
    "collapsed": true,
    "deletable": true,
    "editable": true
   },
   "outputs": [],
   "source": [
    "master_script_file.close()"
   ]
  },
  {
   "cell_type": "code",
   "execution_count": 7,
   "metadata": {
    "collapsed": true,
    "deletable": true,
    "editable": true
   },
   "outputs": [],
   "source": [
    "if 'SVNMasterScriptExport' in wb.sheetnames:\n",
    "    remove_sheet = wb.get_sheet_by_name('SVNMasterScriptExport')\n",
    "    wb.remove(remove_sheet)\n",
    "    wb.create_sheet('SVNMasterScriptExport')\n",
    "else:\n",
    "    wb.create_sheet('SVNMasterScriptExport')"
   ]
  },
  {
   "cell_type": "code",
   "execution_count": 8,
   "metadata": {
    "collapsed": true,
    "deletable": true,
    "editable": true
   },
   "outputs": [],
   "source": [
    "if 'InMasterScriptFolderNotInRoadMa' in wb.sheetnames:\n",
    "    remove_sheet = wb.get_sheet_by_name('InMasterScriptFolderNotInRoadMa')\n",
    "    wb.remove(remove_sheet)\n",
    "    wb.create_sheet('InMasterScriptFolderNotInRoadMa')\n",
    "else:\n",
    "    wb.create_sheet('InMasterScriptFolderNotInRoadMa')"
   ]
  },
  {
   "cell_type": "code",
   "execution_count": 9,
   "metadata": {
    "collapsed": true,
    "deletable": true,
    "editable": true
   },
   "outputs": [],
   "source": [
    "svn_ws = wb.get_sheet_by_name('SVNMasterScriptExport')"
   ]
  },
  {
   "cell_type": "code",
   "execution_count": 10,
   "metadata": {
    "collapsed": false,
    "deletable": true,
    "editable": true
   },
   "outputs": [],
   "source": [
    "for i in range(1,10000):\n",
    "    svn_ws.cell(row=i, column=5)\n",
    "    "
   ]
  },
  {
   "cell_type": "code",
   "execution_count": 11,
   "metadata": {
    "collapsed": true,
    "deletable": true,
    "editable": true
   },
   "outputs": [],
   "source": [
    "i = 1\n",
    "for x in mfolder_list:\n",
    "    x = x.strip()\n",
    "    svn_ws.cell(row=i, column=5, value=x)\n",
    "    i += 1"
   ]
  },
  {
   "cell_type": "code",
   "execution_count": 12,
   "metadata": {
    "collapsed": false,
    "deletable": true,
    "editable": true
   },
   "outputs": [],
   "source": [
    "async_ws = wb.get_sheet_by_name('Async')"
   ]
  },
  {
   "cell_type": "code",
   "execution_count": 13,
   "metadata": {
    "collapsed": true,
    "deletable": true,
    "editable": true
   },
   "outputs": [],
   "source": [
    "for i in range(15,10000):\n",
    "    async_ws.cell(row=i, column=18, value=\"\")"
   ]
  },
  {
   "cell_type": "code",
   "execution_count": 14,
   "metadata": {
    "collapsed": true,
    "deletable": true,
    "editable": true
   },
   "outputs": [],
   "source": [
    "not_in_rm_ws = wb.get_sheet_by_name('InMasterScriptFolderNotInRoadMa')"
   ]
  },
  {
   "cell_type": "code",
   "execution_count": 15,
   "metadata": {
    "collapsed": false,
    "deletable": true,
    "editable": true
   },
   "outputs": [],
   "source": [
    "# for x in range(1,10000):\n",
    "#   not_in_rm_ws.cell(row=x, column=5)"
   ]
  },
  {
   "cell_type": "code",
   "execution_count": 16,
   "metadata": {
    "collapsed": true,
    "deletable": true,
    "editable": true
   },
   "outputs": [],
   "source": [
    "# list1 = []"
   ]
  },
  {
   "cell_type": "code",
   "execution_count": 17,
   "metadata": {
    "collapsed": false,
    "deletable": true,
    "editable": true
   },
   "outputs": [],
   "source": [
    "for i in range(1,10000):\n",
    "    test_found = 0\n",
    "    if svn_ws.cell(row=i, column=5).value is None:\n",
    "        break\n",
    "    for j in range(15,10000):\n",
    "        if async_ws.cell(row=j, column=5).value is None:\n",
    "            break\n",
    "        if (svn_ws.cell(row=i, column=5).value).strip() == (async_ws.cell(row=j, column=5).value).strip():\n",
    "            async_ws.cell(row=j, column=18, value=\"X\")\n",
    "            test_found = 1\n",
    "    if test_found == 0:\n",
    "        # the append method takes a list\n",
    "        list1 = [svn_ws.cell(row=i, column=5).value]\n",
    "        not_in_rm_ws.append(list1)\n",
    "        \n",
    "        \n",
    "        "
   ]
  },
  {
   "cell_type": "code",
   "execution_count": 18,
   "metadata": {
    "collapsed": true,
    "deletable": true,
    "editable": true
   },
   "outputs": [],
   "source": [
    "wb.save(\"BPM_Automation_Roadmap2.xlsx\")"
   ]
  },
  {
   "cell_type": "code",
   "execution_count": null,
   "metadata": {
    "collapsed": true,
    "deletable": true,
    "editable": true
   },
   "outputs": [],
   "source": [
    "class Open_files:\n",
    "    "
   ]
  }
 ],
 "metadata": {
  "kernelspec": {
   "display_name": "Python 3",
   "language": "python",
   "name": "python3"
  },
  "language_info": {
   "codemirror_mode": {
    "name": "ipython",
    "version": 3
   },
   "file_extension": ".py",
   "mimetype": "text/x-python",
   "name": "python",
   "nbconvert_exporter": "python",
   "pygments_lexer": "ipython3",
   "version": "3.6.0"
  }
 },
 "nbformat": 4,
 "nbformat_minor": 2
}
